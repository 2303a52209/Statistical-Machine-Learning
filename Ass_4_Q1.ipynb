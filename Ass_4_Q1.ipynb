{
  "nbformat": 4,
  "nbformat_minor": 0,
  "metadata": {
    "colab": {
      "provenance": [],
      "mount_file_id": "1x7YFSYtMkVZEXVoFO3Ydx8KeMM3GPSPo",
      "authorship_tag": "ABX9TyOWJfAxbV91ZcXrdQPyl8xS",
      "include_colab_link": true
    },
    "kernelspec": {
      "name": "python3",
      "display_name": "Python 3"
    },
    "language_info": {
      "name": "python"
    }
  },
  "cells": [
    {
      "cell_type": "markdown",
      "metadata": {
        "id": "view-in-github",
        "colab_type": "text"
      },
      "source": [
        "<a href=\"https://colab.research.google.com/github/2303a52209/Statistical-Machine-Learning/blob/main/Ass_4_Q1.ipynb\" target=\"_parent\"><img src=\"https://colab.research.google.com/assets/colab-badge.svg\" alt=\"Open In Colab\"/></a>"
      ]
    },
    {
      "cell_type": "code",
      "execution_count": null,
      "metadata": {
        "colab": {
          "base_uri": "https://localhost:8080/"
        },
        "id": "6dA5Evpg5edL",
        "outputId": "33b8d0f6-6316-48da-e071-52d343dbe25e"
      },
      "outputs": [
        {
          "output_type": "stream",
          "name": "stdout",
          "text": [
            "   id  battery_power  blue  clock_speed  dual_sim  fc  four_g  int_memory  \\\n",
            "0   1           1043     1          1.8         1  14       0           5   \n",
            "1   2            841     1          0.5         1   4       1          61   \n",
            "2   3           1807     1          2.8         0   1       0          27   \n",
            "3   4           1546     0          0.5         1  18       1          25   \n",
            "4   5           1434     0          1.4         0  11       1          49   \n",
            "\n",
            "   m_dep  mobile_wt  ...  pc  px_height  px_width   ram  sc_h  sc_w  \\\n",
            "0    0.1        193  ...  16        226      1412  3476    12     7   \n",
            "1    0.8        191  ...  12        746       857  3895     6     0   \n",
            "2    0.9        186  ...   4       1270      1366  2396    17    10   \n",
            "3    0.5         96  ...  20        295      1752  3893    10     0   \n",
            "4    0.5        108  ...  18        749       810  1773    15     8   \n",
            "\n",
            "   talk_time  three_g  touch_screen  wifi  \n",
            "0          2        0             1     0  \n",
            "1          7        1             0     0  \n",
            "2         10        0             1     1  \n",
            "3          7        1             1     0  \n",
            "4          7        1             0     1  \n",
            "\n",
            "[5 rows x 21 columns]\n",
            "Features: Index(['id', 'blue', 'clock_speed', 'dual_sim', 'fc', 'four_g', 'int_memory',\n",
            "       'm_dep', 'mobile_wt', 'n_cores', 'pc', 'px_height', 'px_width', 'ram',\n",
            "       'sc_h', 'sc_w', 'talk_time', 'three_g', 'touch_screen', 'wifi'],\n",
            "      dtype='object')\n",
            "Target: battery_power\n"
          ]
        }
      ],
      "source": [
        "import pandas as pd\n",
        "df = pd.read_csv('/test.csv')\n",
        "print(df.head())\n",
        "features = df.drop('battery_power', axis=1)\n",
        "target = df['battery_power']\n",
        "print(\"Features:\", features.columns)\n",
        "print(\"Target:\", target.name)\n",
        "#K.AKSHAY(2302A52209)"
      ]
    },
    {
      "cell_type": "code",
      "source": [
        "from sklearn.preprocessing import MinMaxScaler\n",
        "scaler = MinMaxScaler()\n",
        "features_scaled = scaler.fit_transform(features)\n",
        "features_scaled = pd.DataFrame(features_scaled, columns=features.columns)\n",
        "print(\"Scaled Features:\", features_scaled.head())\n"
      ],
      "metadata": {
        "colab": {
          "base_uri": "https://localhost:8080/"
        },
        "id": "WCYZPv3181xR",
        "outputId": "77e12dce-fd44-40f9-fbc2-679f4f9a98df"
      },
      "execution_count": null,
      "outputs": [
        {
          "output_type": "stream",
          "name": "stdout",
          "text": [
            "Scaled Features:          id  blue  clock_speed  dual_sim        fc  four_g  int_memory  \\\n",
            "0  0.000000   1.0         0.52       1.0  0.736842     0.0    0.048387   \n",
            "1  0.001001   1.0         0.00       1.0  0.210526     1.0    0.951613   \n",
            "2  0.002002   1.0         0.92       0.0  0.052632     0.0    0.403226   \n",
            "3  0.003003   0.0         0.00       1.0  0.947368     1.0    0.370968   \n",
            "4  0.004004   0.0         0.36       0.0  0.578947     1.0    0.758065   \n",
            "\n",
            "      m_dep  mobile_wt   n_cores   pc  px_height  px_width       ram  \\\n",
            "0  0.000000   0.941667  0.285714  0.8   0.118511  0.608550  0.862319   \n",
            "1  0.777778   0.925000  0.571429  0.6   0.391190  0.237809  0.974772   \n",
            "2  0.888889   0.883333  0.285714  0.2   0.665967  0.577822  0.572464   \n",
            "3  0.444444   0.133333  1.000000  1.0   0.154693  0.835671  0.974235   \n",
            "4  0.444444   0.233333  0.714286  0.9   0.392764  0.206413  0.405260   \n",
            "\n",
            "       sc_h      sc_w  talk_time  three_g  touch_screen  wifi  \n",
            "0  0.500000  0.388889   0.000000      0.0           1.0   0.0  \n",
            "1  0.071429  0.000000   0.277778      1.0           0.0   0.0  \n",
            "2  0.857143  0.555556   0.444444      0.0           1.0   1.0  \n",
            "3  0.357143  0.000000   0.277778      1.0           1.0   0.0  \n",
            "4  0.714286  0.444444   0.277778      1.0           0.0   1.0  \n"
          ]
        }
      ]
    },
    {
      "cell_type": "code",
      "source": [
        "from sklearn.model_selection import train_test_split\n",
        "X_train, X_test, y_train, y_test = train_test_split(features_scaled, target, test_size=0.2, random_state=42)\n",
        "print(\"Train Features:\", X_train.shape)\n",
        "print(\"Test Features:\", X_test.shape)\n",
        "print(\"Train Target:\", y_train.shape)\n",
        "print(\"Test Target:\", y_test.shape)\n"
      ],
      "metadata": {
        "colab": {
          "base_uri": "https://localhost:8080/"
        },
        "id": "PB6o1kh09CFx",
        "outputId": "ada9a127-9717-4631-f23b-e1d9c6d80b37"
      },
      "execution_count": null,
      "outputs": [
        {
          "output_type": "stream",
          "name": "stdout",
          "text": [
            "Train Features: (800, 20)\n",
            "Test Features: (200, 20)\n",
            "Train Target: (800,)\n",
            "Test Target: (200,)\n"
          ]
        }
      ]
    }
  ]
}