{
  "nbformat": 4,
  "nbformat_minor": 0,
  "metadata": {
    "colab": {
      "provenance": [],
      "authorship_tag": "ABX9TyOL1Gr1Dw4HfxM8t6adKZFZ",
      "include_colab_link": true
    },
    "kernelspec": {
      "name": "python3",
      "display_name": "Python 3"
    },
    "language_info": {
      "name": "python"
    }
  },
  "cells": [
    {
      "cell_type": "markdown",
      "metadata": {
        "id": "view-in-github",
        "colab_type": "text"
      },
      "source": [
        "<a href=\"https://colab.research.google.com/github/2303a52209/Statistical-Machine-Learning/blob/main/Stats_Ass.ipynb\" target=\"_parent\"><img src=\"https://colab.research.google.com/assets/colab-badge.svg\" alt=\"Open In Colab\"/></a>"
      ]
    },
    {
      "cell_type": "code",
      "source": [
        "from google.colab import drive\n",
        "drive.mount('/content/drive')"
      ],
      "metadata": {
        "colab": {
          "base_uri": "https://localhost:8080/"
        },
        "id": "vn_wWTpI4YxB",
        "outputId": "ea8c6e7d-93ee-488b-dbb5-fa531f1a02cd"
      },
      "execution_count": null,
      "outputs": [
        {
          "output_type": "stream",
          "name": "stdout",
          "text": [
            "Mounted at /content/drive\n"
          ]
        }
      ]
    },
    {
      "cell_type": "code",
      "execution_count": null,
      "metadata": {
        "colab": {
          "base_uri": "https://localhost:8080/",
          "height": 1000
        },
        "id": "oK-Afi0c1RT9",
        "outputId": "4ef42bdd-dc1e-4ce4-bd96-c36c3ffbf683"
      },
      "outputs": [
        {
          "output_type": "stream",
          "name": "stderr",
          "text": [
            "<ipython-input-13-4cd6a13f480b>:7: DeprecationWarning: Please import `kurtosis` from the `scipy.stats` namespace; the `scipy.stats.stats` namespace is deprecated and will be removed in SciPy 2.0.0.\n",
            "  from scipy.stats.stats import kurtosis\n",
            "/usr/local/lib/python3.10/dist-packages/numpy/core/fromnumeric.py:3643: FutureWarning: The behavior of DataFrame.std with axis=None is deprecated, in a future version this will reduce over both axes and return a scalar. To retain the old behavior, pass axis=0 (or do not pass axis)\n",
            "  return std(axis=axis, dtype=dtype, out=out, ddof=ddof, **kwargs)\n"
          ]
        },
        {
          "output_type": "stream",
          "name": "stdout",
          "text": [
            "    Blood Pressure (mmHg)\n",
            "0                     181\n",
            "1                     103\n",
            "2                      95\n",
            "3                     106\n",
            "4                     187\n",
            "5                     125\n",
            "6                     181\n",
            "7                     182\n",
            "8                     115\n",
            "9                     174\n",
            "10                    154\n",
            "11                    133\n",
            "12                    165\n",
            "13                    153\n",
            "14                    110\n",
            "15                    107\n",
            "16                    112\n",
            "17                     91\n",
            "18                    101\n",
            "19                    125\n",
            "The mean of Blood Pressure= 145.44\n",
            "The median of Blood Pressure= 146.0\n",
            "The mode of Blood Pressure= 0    106\n",
            "1    107\n",
            "2    141\n",
            "Name: Blood Pressure (mmHg), dtype: int64\n",
            "The standard deviation of Blood Pressure= Blood Pressure (mmHg)    31.740643\n",
            "dtype: float64\n",
            "The skewness of Blood Pressure= [-0.00906837]\n",
            "The kurtosis of Blood Pressure= [-1.17992631]\n",
            "The interquartile range of Blood Pressure= [55.]\n",
            "The IQR of the Blood Pressure= 55.0\n",
            "**K.AKSHAY(2303A52209)**\n"
          ]
        },
        {
          "output_type": "display_data",
          "data": {
            "text/plain": [
              "<Figure size 1000x500 with 1 Axes>"
            ],
            "image/png": "[encoded data removed]"
          },
          "metadata": {}
        }
      ],
      "source": [
        "\n",
        "#Blood Pressure\n",
        "import  pandas as pd\n",
        "import numpy as np\n",
        "import matplotlib.pyplot as plt\n",
        "import seaborn as sns\n",
        "from scipy.stats import skew\n",
        "from scipy.stats.stats import kurtosis\n",
        "from scipy.stats import iqr\n",
        "class bold_text:\n",
        "  BOLD = \"\\033[1m\"\n",
        "\n",
        "data=pd.read_csv('/content/drive/MyDrive/heart_attack_dataset.csv',usecols=(['Blood Pressure (mmHg)']))\n",
        "p=data.head(20)\n",
        "print(p)\n",
        "print('The mean of Blood Pressure=',np.mean(data))\n",
        "print('The median of Blood Pressure=',np.median(data))\n",
        "print('The mode of Blood Pressure=',(data['Blood Pressure (mmHg)'].mode()))\n",
        "print('The standard deviation of Blood Pressure=',np.std(data))\n",
        "print('The skewness of Blood Pressure=',skew(data))\n",
        "print('The kurtosis of Blood Pressure=',kurtosis(data,axis=0,bias=True))\n",
        "print('The interquartile range of Blood Pressure=',iqr(data,axis=0))\n",
        "print(\"The IQR of the Blood Pressure=\",iqr(data))\n",
        "print(\"**K.AKSHAY(2303A52209)**\")\n",
        "data=data[\"Blood Pressure (mmHg)\"]\n",
        "plt.figure(figsize=(10,5))\n",
        "plt.hist(data, bins=30, color='skyblue', edgecolor='black')\n",
        "plt.xlabel('no.of people')\n",
        "plt.ylabel('Blood Pressure')\n",
        "plt.title(' Histogram')\n",
        "plt.show()"
      ]
    }
  ]
}