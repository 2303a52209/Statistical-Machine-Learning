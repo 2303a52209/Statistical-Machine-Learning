{
  "nbformat": 4,
  "nbformat_minor": 0,
  "metadata": {
    "colab": {
      "provenance": [],
      "authorship_tag": "ABX9TyO1UcUBss0U2eAlLGLxVHF4",
      "include_colab_link": true
    },
    "kernelspec": {
      "name": "python3",
      "display_name": "Python 3"
    },
    "language_info": {
      "name": "python"
    }
  },
  "cells": [
    {
      "cell_type": "markdown",
      "metadata": {
        "id": "view-in-github",
        "colab_type": "text"
      },
      "source": [
        "<a href=\"https://colab.research.google.com/github/2303a52209/Statistical-Machine-Learning/blob/main/Ass_9_STML.ipynb\" target=\"_parent\"><img src=\"https://colab.research.google.com/assets/colab-badge.svg\" alt=\"Open In Colab\"/></a>"
      ]
    },
    {
      "cell_type": "code",
      "execution_count": 2,
      "metadata": {
        "id": "lWxwUjT2VWYr"
      },
      "outputs": [],
      "source": [
        "import pandas as pd\n",
        "from sklearn.model_selection import train_test_split\n",
        "from sklearn.linear_model import LogisticRegression\n",
        "from sklearn.metrics import accuracy_score"
      ]
    },
    {
      "cell_type": "code",
      "source": [
        "data = pd.read_csv('/content/breast_cancer_survival.csv')\n",
        "print(data.head())"
      ],
      "metadata": {
        "colab": {
          "base_uri": "https://localhost:8080/"
        },
        "id": "kowLup8eV7Tn",
        "outputId": "1ce3b75d-82dc-4438-b249-0bcb368580f7"
      },
      "execution_count": 3,
      "outputs": [
        {
          "output_type": "stream",
          "name": "stdout",
          "text": [
            "   Age  Gender  Protein1  Protein2  Protein3  Protein4 Tumour_Stage  \\\n",
            "0   42  FEMALE   0.95256   2.15000  0.007972 -0.048340           II   \n",
            "1   54  FEMALE   0.00000   1.38020 -0.498030 -0.507320           II   \n",
            "2   63  FEMALE  -0.52303   1.76400 -0.370190  0.010815           II   \n",
            "3   78  FEMALE  -0.87618   0.12943 -0.370380  0.132190            I   \n",
            "4   42  FEMALE   0.22611   1.74910 -0.543970 -0.390210           II   \n",
            "\n",
            "                       Histology ER status PR status HER2 status Surgery_type  \\\n",
            "0  Infiltrating Ductal Carcinoma  Positive  Positive    Negative        Other   \n",
            "1  Infiltrating Ductal Carcinoma  Positive  Positive    Negative        Other   \n",
            "2  Infiltrating Ductal Carcinoma  Positive  Positive    Negative   Lumpectomy   \n",
            "3  Infiltrating Ductal Carcinoma  Positive  Positive    Negative        Other   \n",
            "4  Infiltrating Ductal Carcinoma  Positive  Positive    Positive   Lumpectomy   \n",
            "\n",
            "  Date_of_Surgery Date_of_Last_Visit Patient_Status  \n",
            "0       20-May-18          26-Aug-18          Alive  \n",
            "1       26-Apr-18          25-Jan-19           Dead  \n",
            "2       24-Aug-18          08-Apr-20          Alive  \n",
            "3       16-Nov-18          28-Jul-20          Alive  \n",
            "4       12-Dec-18          05-Jan-19          Alive  \n"
          ]
        }
      ]
    },
    {
      "cell_type": "code",
      "source": [
        "print(data.columns)\n",
        "target_column = 'date_of_surgery'\n",
        "\n",
        "X = data.drop(columns=[target_column])\n",
        "y = data[target_column]"
      ],
      "metadata": {
        "colab": {
          "base_uri": "https://localhost:8080/"
        },
        "id": "LzqF7ZuzXcPQ",
        "outputId": "e16b63d2-0742-4439-a181-df3dd6aca62a"
      },
      "execution_count": 11,
      "outputs": [
        {
          "output_type": "stream",
          "name": "stdout",
          "text": [
            "Index(['age', 'gender', 'protein1', 'protein2', 'protein3', 'protein4',\n",
            "       'tumour_stage', 'histology', 'er status', 'pr status', 'her2 status',\n",
            "       'surgery_type', 'date_of_surgery', 'date_of_last_visit',\n",
            "       'patient_status'],\n",
            "      dtype='object')\n"
          ]
        }
      ]
    },
    {
      "cell_type": "code",
      "source": [
        "import pandas as pd\n",
        "from sklearn.model_selection import train_test_split\n",
        "from sklearn.linear_model import LogisticRegression\n",
        "from sklearn.metrics import accuracy_score\n",
        "\n",
        "from sklearn.preprocessing import LabelEncoder\n",
        "\n",
        "encoder = LabelEncoder()\n",
        "\n",
        "for column in X.columns:\n",
        "    if X[column].dtype == 'object':\n",
        "        X[column] = encoder.fit_transform(X[column])\n",
        "X_train, X_test, y_train, y_test = train_test_split(X, y, test_size=0.2, random_state=42)\n",
        "model = LogisticRegression()\n",
        "model.fit(X_train, y_train)\n",
        "y_pred = model.predict(X_test)\n",
        "accuracy = accuracy_score(y_test, y_pred)\n",
        "print(f'accuracy: {accuracy}')"
      ],
      "metadata": {
        "colab": {
          "base_uri": "https://localhost:8080/"
        },
        "id": "rhb0WXFOYF8B",
        "outputId": "3c9825d7-5c94-4479-fd16-96b1c99d3fd0"
      },
      "execution_count": 16,
      "outputs": [
        {
          "output_type": "stream",
          "name": "stdout",
          "text": [
            "accuracy: 0.0\n"
          ]
        },
        {
          "output_type": "stream",
          "name": "stderr",
          "text": [
            "/usr/local/lib/python3.10/dist-packages/sklearn/linear_model/_logistic.py:469: ConvergenceWarning: lbfgs failed to converge (status=1):\n",
            "STOP: TOTAL NO. of ITERATIONS REACHED LIMIT.\n",
            "\n",
            "Increase the number of iterations (max_iter) or scale the data as shown in:\n",
            "    https://scikit-learn.org/stable/modules/preprocessing.html\n",
            "Please also refer to the documentation for alternative solver options:\n",
            "    https://scikit-learn.org/stable/modules/linear_model.html#logistic-regression\n",
            "  n_iter_i = _check_optimize_result(\n"
          ]
        }
      ]
    },
    {
      "cell_type": "code",
      "source": [
        "test_sizes = [0.1, 0.2, 0.3]\n",
        "for test_size in test_sizes:\n",
        "    X_train, X_test, y_train, y_test = train_test_split(X, y, test_size=test_size, random_state=42)\n",
        "    model.fit(X_train, y_train)\n",
        "    y_pred = model.predict(X_test)\n",
        "    accuracy = accuracy_score(y_test, y_pred)\n",
        "    print(f'Accuracy with test size {test_size}: {accuracy}')"
      ],
      "metadata": {
        "colab": {
          "base_uri": "https://localhost:8080/"
        },
        "id": "W6BOOAMVZI57",
        "outputId": "bf9e7177-7033-4190-fc55-13517b4de9f5"
      },
      "execution_count": 17,
      "outputs": [
        {
          "output_type": "stream",
          "name": "stderr",
          "text": [
            "/usr/local/lib/python3.10/dist-packages/sklearn/linear_model/_logistic.py:469: ConvergenceWarning: lbfgs failed to converge (status=1):\n",
            "STOP: TOTAL NO. of ITERATIONS REACHED LIMIT.\n",
            "\n",
            "Increase the number of iterations (max_iter) or scale the data as shown in:\n",
            "    https://scikit-learn.org/stable/modules/preprocessing.html\n",
            "Please also refer to the documentation for alternative solver options:\n",
            "    https://scikit-learn.org/stable/modules/linear_model.html#logistic-regression\n",
            "  n_iter_i = _check_optimize_result(\n"
          ]
        },
        {
          "output_type": "stream",
          "name": "stdout",
          "text": [
            "Accuracy with test size 0.1: 0.0\n",
            "Accuracy with test size 0.2: 0.0\n",
            "Accuracy with test size 0.3: 0.0\n"
          ]
        },
        {
          "output_type": "stream",
          "name": "stderr",
          "text": [
            "/usr/local/lib/python3.10/dist-packages/sklearn/linear_model/_logistic.py:469: ConvergenceWarning: lbfgs failed to converge (status=1):\n",
            "STOP: TOTAL NO. of ITERATIONS REACHED LIMIT.\n",
            "\n",
            "Increase the number of iterations (max_iter) or scale the data as shown in:\n",
            "    https://scikit-learn.org/stable/modules/preprocessing.html\n",
            "Please also refer to the documentation for alternative solver options:\n",
            "    https://scikit-learn.org/stable/modules/linear_model.html#logistic-regression\n",
            "  n_iter_i = _check_optimize_result(\n",
            "/usr/local/lib/python3.10/dist-packages/sklearn/linear_model/_logistic.py:469: ConvergenceWarning: lbfgs failed to converge (status=1):\n",
            "STOP: TOTAL NO. of ITERATIONS REACHED LIMIT.\n",
            "\n",
            "Increase the number of iterations (max_iter) or scale the data as shown in:\n",
            "    https://scikit-learn.org/stable/modules/preprocessing.html\n",
            "Please also refer to the documentation for alternative solver options:\n",
            "    https://scikit-learn.org/stable/modules/linear_model.html#logistic-regression\n",
            "  n_iter_i = _check_optimize_result(\n"
          ]
        }
      ]
    },
    {
      "cell_type": "markdown",
      "source": [
        "2nd **question**"
      ],
      "metadata": {
        "id": "ojcg8HIxZQtd"
      }
    },
    {
      "cell_type": "code",
      "source": [
        "import pandas as pd\n",
        "from sklearn.model_selection import train_test_split\n",
        "from sklearn.linear_model import LogisticRegression\n",
        "from sklearn.metrics import accuracy_score"
      ],
      "metadata": {
        "id": "_OXZCizUZQNq"
      },
      "execution_count": 18,
      "outputs": []
    },
    {
      "cell_type": "code",
      "source": [
        "data = pd.read_csv('/content/breast_cancer_survival.csv')\n",
        "print(data.head())\n",
        "print(data.columns)"
      ],
      "metadata": {
        "colab": {
          "base_uri": "https://localhost:8080/"
        },
        "id": "wS04x7o0Z71z",
        "outputId": "ffba7461-b8a3-4885-cf5a-07ca9d9b79bf"
      },
      "execution_count": 20,
      "outputs": [
        {
          "output_type": "stream",
          "name": "stdout",
          "text": [
            "   Age  Gender  Protein1  Protein2  Protein3  Protein4 Tumour_Stage  \\\n",
            "0   42  FEMALE   0.95256   2.15000  0.007972 -0.048340           II   \n",
            "1   54  FEMALE   0.00000   1.38020 -0.498030 -0.507320           II   \n",
            "2   63  FEMALE  -0.52303   1.76400 -0.370190  0.010815           II   \n",
            "3   78  FEMALE  -0.87618   0.12943 -0.370380  0.132190            I   \n",
            "4   42  FEMALE   0.22611   1.74910 -0.543970 -0.390210           II   \n",
            "\n",
            "                       Histology ER status PR status HER2 status Surgery_type  \\\n",
            "0  Infiltrating Ductal Carcinoma  Positive  Positive    Negative        Other   \n",
            "1  Infiltrating Ductal Carcinoma  Positive  Positive    Negative        Other   \n",
            "2  Infiltrating Ductal Carcinoma  Positive  Positive    Negative   Lumpectomy   \n",
            "3  Infiltrating Ductal Carcinoma  Positive  Positive    Negative        Other   \n",
            "4  Infiltrating Ductal Carcinoma  Positive  Positive    Positive   Lumpectomy   \n",
            "\n",
            "  Date_of_Surgery Date_of_Last_Visit Patient_Status  \n",
            "0       20-May-18          26-Aug-18          Alive  \n",
            "1       26-Apr-18          25-Jan-19           Dead  \n",
            "2       24-Aug-18          08-Apr-20          Alive  \n",
            "3       16-Nov-18          28-Jul-20          Alive  \n",
            "4       12-Dec-18          05-Jan-19          Alive  \n",
            "Index(['Age', 'Gender', 'Protein1', 'Protein2', 'Protein3', 'Protein4',\n",
            "       'Tumour_Stage', 'Histology', 'ER status', 'PR status', 'HER2 status',\n",
            "       'Surgery_type', 'Date_of_Surgery', 'Date_of_Last_Visit',\n",
            "       'Patient_Status'],\n",
            "      dtype='object')\n"
          ]
        }
      ]
    },
    {
      "cell_type": "code",
      "source": [
        "target_column = 'Gender'\n",
        "X = data.drop(columns=[target_column])\n",
        "y = data[target_column]"
      ],
      "metadata": {
        "id": "K_Bz_ew1aO4m"
      },
      "execution_count": 21,
      "outputs": []
    },
    {
      "cell_type": "code",
      "source": [
        "categorical_cols = data.select_dtypes(include=['object']).columns\n",
        "\n",
        "\n",
        "encoder = LabelEncoder()\n",
        "\n",
        "\n",
        "for col in categorical_cols:\n",
        "    data[col] = encoder.fit_transform(data[col])\n",
        "\n",
        "\n",
        "target_column = 'Gender'\n",
        "X = data.drop(columns=[target_column])\n",
        "y = data[target_column]\n",
        "\n",
        "\n",
        "X_train, X_test, y_train, y_test = train_test_split(X, y, test_size=0.2, random_state=42)\n",
        "\n",
        "\n",
        "model = LogisticRegression(max_iter=1000)\n",
        "model.fit(X_train, y_train)\n",
        "\n",
        "\n",
        "y_pred = model.predict(X_test)\n",
        "\n",
        "\n",
        "accuracy = accuracy_score(y_test, y_pred)\n",
        "print(f'Accuracy with 80-20 split: {accuracy}')"
      ],
      "metadata": {
        "colab": {
          "base_uri": "https://localhost:8080/"
        },
        "id": "9h7qfbCjajVo",
        "outputId": "246eb494-d992-4487-9ea5-8aa444347dd4"
      },
      "execution_count": 26,
      "outputs": [
        {
          "output_type": "stream",
          "name": "stdout",
          "text": [
            "Accuracy with 80-20 split: 1.0\n"
          ]
        }
      ]
    },
    {
      "cell_type": "code",
      "source": [
        "test_sizes = [0.1, 0.2, 0.3, 0.4]\n",
        "\n",
        "\n",
        "for test_size in test_sizes:\n",
        "    X_train, X_test, y_train, y_test = train_test_split(X, y, test_size=test_size, random_state=42)\n",
        "\n",
        "    model.fit(X_train, y_train)\n",
        "\n",
        "    y_pred = model.predict(X_test)\n",
        "\n",
        "    accuracy = accuracy_score(y_test, y_pred)\n",
        "\n",
        "    print(f'Accuracy with {int(test_size*100)}% test size: {accuracy}')\n"
      ],
      "metadata": {
        "colab": {
          "base_uri": "https://localhost:8080/"
        },
        "id": "ZsKIZanwcb1f",
        "outputId": "e3e9d038-8dfe-4ac2-9bf1-2254e4030ba7"
      },
      "execution_count": 30,
      "outputs": [
        {
          "output_type": "stream",
          "name": "stdout",
          "text": [
            "Accuracy with 10% test size: 1.0\n",
            "Accuracy with 20% test size: 1.0\n",
            "Accuracy with 30% test size: 0.9900990099009901\n",
            "Accuracy with 40% test size: 0.9925373134328358\n"
          ]
        }
      ]
    }
  ]
}